{
 "cells": [
  {
   "cell_type": "markdown",
   "id": "b41b25a8",
   "metadata": {},
   "source": [
    "# Import libraries "
   ]
  },
  {
   "cell_type": "code",
   "execution_count": 1,
   "id": "0ef88dc3",
   "metadata": {},
   "outputs": [],
   "source": [
    "import keras\n",
    "import win32gui\n",
    "%matplotlib inline\n",
    "import numpy as np\n",
    "import pandas as pd\n",
    "import tkinter as tk\n",
    "import seaborn as sns\n",
    "from tkinter import *\n",
    "import matplotlib.pyplot as plt\n",
    "from keras.datasets import mnist\n",
    "from PIL import ImageGrab, Image\n",
    "from keras.models import Sequential\n",
    "from keras.models import load_model\n",
    "from keras.callbacks import EarlyStopping\n",
    "from keras.layers import Dense, Conv2D, Flatten"
   ]
  },
  {
   "cell_type": "markdown",
   "id": "b657f52c",
   "metadata": {},
   "source": [
    "# Load MNIST Dataset"
   ]
  },
  {
   "cell_type": "code",
   "execution_count": 2,
   "id": "3eb0c9b6",
   "metadata": {},
   "outputs": [],
   "source": [
    "# MNIST data can be loaded from the keras library. \n",
    "(train_samples,train_labels), (test_samples,test_labels) = mnist.load_data()"
   ]
  },
  {
   "cell_type": "code",
   "execution_count": 3,
   "id": "d505d3d2",
   "metadata": {},
   "outputs": [
    {
     "name": "stdout",
     "output_type": "stream",
     "text": [
      "(60000, 28, 28)\n",
      "(60000,)\n",
      "(10000, 28, 28)\n",
      "(10000,)\n"
     ]
    }
   ],
   "source": [
    "# check the shape of the dataset\n",
    "print(train_samples.shape)\n",
    "print(train_labels.shape)\n",
    "print(test_samples.shape)\n",
    "print(test_labels.shape)"
   ]
  },
  {
   "cell_type": "code",
   "execution_count": 4,
   "id": "177b2571",
   "metadata": {},
   "outputs": [
    {
     "data": {
      "image/png": "[encoded data removed]",
      "text/plain": [
       "<Figure size 640x480 with 1 Axes>"
      ]
     },
     "metadata": {},
     "output_type": "display_data"
    },
    {
     "name": "stdout",
     "output_type": "stream",
     "text": [
      "Label of image is 1\n"
     ]
    },
    {
     "data": {
      "image/png": "[encoded data removed]",
      "text/plain": [
       "<Figure size 640x480 with 1 Axes>"
      ]
     },
     "metadata": {},
     "output_type": "display_data"
    },
    {
     "name": "stdout",
     "output_type": "stream",
     "text": [
      "Label of image is 3\n"
     ]
    }
   ],
   "source": [
    "for i in range(6,8):\n",
    "  pixels=train_samples[i]\n",
    "  plt.imshow(pixels, cmap = plt.cm.binary)\n",
    "  plt.show()\n",
    "  print(\"Label of image is\", train_labels[i])"
   ]
  },
  {
   "cell_type": "markdown",
   "id": "9f24cf17",
   "metadata": {},
   "source": [
    "# Data preprocessing"
   ]
  },
  {
   "cell_type": "code",
   "execution_count": 5,
   "id": "e5bd9a72",
   "metadata": {},
   "outputs": [],
   "source": [
    "#convert_dtype => float32\n",
    "train_samples= train_samples.astype('float32')\n",
    "test_samples= test_samples.astype('float32')\n"
   ]
  },
  {
   "cell_type": "code",
   "execution_count": 6,
   "id": "364ccab8",
   "metadata": {},
   "outputs": [],
   "source": [
    "#Normalize the inputs\n",
    "train_samples=(train_samples - np.min(train_samples))/np.ptp(train_samples) #ptp function is used to find the range\n",
    "test_samples=(test_samples - np.min(test_samples))/np.ptp(test_samples)"
   ]
  },
  {
   "cell_type": "code",
   "execution_count": 7,
   "id": "6be021f0",
   "metadata": {},
   "outputs": [
    {
     "data": {
      "text/plain": [
       "True"
      ]
     },
     "execution_count": 7,
     "metadata": {},
     "output_type": "execute_result"
    }
   ],
   "source": [
    "#Check if train_samples is normalized or not\n",
    "np.isclose(np.amax(train_samples), 1)"
   ]
  },
  {
   "cell_type": "code",
   "execution_count": 8,
   "id": "31fbc413",
   "metadata": {},
   "outputs": [],
   "source": [
    "#Reshape train_data to be of shape (samples, height, width, channels) pass to Conv2D layer of keras\n",
    "train_samples = train_samples.reshape(train_samples.shape[0],train_samples.shape[1],train_samples.shape[2],1)\n",
    "test_samples = test_samples.reshape(test_samples.shape[0],test_samples.shape[1],test_samples.shape[2],1)"
   ]
  },
  {
   "cell_type": "code",
   "execution_count": 9,
   "id": "83f487d1",
   "metadata": {},
   "outputs": [],
   "source": [
    "def oneHot(y, Ny):\n",
    "    \n",
    "    import tensorflow \n",
    "    from keras.utils import to_categorical\n",
    "    Ny=len(np.unique(y))\n",
    "    y_oh=to_categorical(y,num_classes=Ny)\n",
    "    return y_oh\n",
    "\n",
    "# example\n",
    "train_labels = oneHot(train_labels, 10)\n",
    "test_labels = oneHot(test_labels, 10)"
   ]
  },
  {
   "cell_type": "markdown",
   "id": "10d8cad5",
   "metadata": {},
   "source": [
    "# Convolutional Neural Network Model"
   ]
  },
  {
   "cell_type": "code",
   "execution_count": 10,
   "id": "7be728fd",
   "metadata": {},
   "outputs": [],
   "source": [
    "model = Sequential()\n",
    "model.add(Conv2D(64, kernel_size=3, activation='relu', input_shape=(28,28,1)))\n",
    "model.add(Conv2D(32, kernel_size=3, activation='relu'))\n",
    "model.add(Flatten())\n",
    "model.add(Dense(10, activation='softmax'))"
   ]
  },
  {
   "cell_type": "code",
   "execution_count": 11,
   "id": "67204109",
   "metadata": {},
   "outputs": [
    {
     "name": "stdout",
     "output_type": "stream",
     "text": [
      "Model: \"sequential\"\n",
      "_________________________________________________________________\n",
      " Layer (type)                Output Shape              Param #   \n",
      "=================================================================\n",
      " conv2d (Conv2D)             (None, 26, 26, 64)        640       \n",
      "                                                                 \n",
      " conv2d_1 (Conv2D)           (None, 24, 24, 32)        18464     \n",
      "                                                                 \n",
      " flatten (Flatten)           (None, 18432)             0         \n",
      "                                                                 \n",
      " dense (Dense)               (None, 10)                184330    \n",
      "                                                                 \n",
      "=================================================================\n",
      "Total params: 203434 (794.66 KB)\n",
      "Trainable params: 203434 (794.66 KB)\n",
      "Non-trainable params: 0 (0.00 Byte)\n",
      "_________________________________________________________________\n"
     ]
    }
   ],
   "source": [
    "model.compile(loss='categorical_crossentropy', optimizer='adam', metrics=['accuracy'])\n",
    "model.summary()"
   ]
  },
  {
   "cell_type": "code",
   "execution_count": 12,
   "id": "aea7efb7",
   "metadata": {},
   "outputs": [],
   "source": [
    "earlystopping = EarlyStopping(\n",
    "    monitor=\"val_accuracy\",\n",
    "    min_delta=0.0001,\n",
    "    patience=5,\n",
    "    verbose=1,\n",
    "    mode=\"auto\",\n",
    "    baseline=None,\n",
    "    restore_best_weights=True,\n",
    ")"
   ]
  },
  {
   "cell_type": "code",
   "execution_count": 13,
   "id": "484a59d4",
   "metadata": {},
   "outputs": [
    {
     "name": "stdout",
     "output_type": "stream",
     "text": [
      "Epoch 1/30\n",
      "216/216 [==============================] - 135s 615ms/step - loss: 0.2609 - accuracy: 0.9236 - val_loss: 0.0676 - val_accuracy: 0.9810\n",
      "Epoch 2/30\n",
      "216/216 [==============================] - 122s 564ms/step - loss: 0.0684 - accuracy: 0.9794 - val_loss: 0.0531 - val_accuracy: 0.9850\n",
      "Epoch 3/30\n",
      "216/216 [==============================] - 155s 719ms/step - loss: 0.0480 - accuracy: 0.9851 - val_loss: 0.0586 - val_accuracy: 0.9835\n",
      "Epoch 4/30\n",
      "216/216 [==============================] - 164s 759ms/step - loss: 0.0365 - accuracy: 0.9888 - val_loss: 0.0478 - val_accuracy: 0.9865\n",
      "Epoch 5/30\n",
      "216/216 [==============================] - 159s 736ms/step - loss: 0.0259 - accuracy: 0.9920 - val_loss: 0.0460 - val_accuracy: 0.9878\n",
      "Epoch 6/30\n",
      "216/216 [==============================] - 136s 628ms/step - loss: 0.0218 - accuracy: 0.9931 - val_loss: 0.0520 - val_accuracy: 0.9873\n",
      "Epoch 7/30\n",
      "216/216 [==============================] - 160s 742ms/step - loss: 0.0164 - accuracy: 0.9949 - val_loss: 0.0557 - val_accuracy: 0.9870\n",
      "Epoch 8/30\n",
      "216/216 [==============================] - 153s 708ms/step - loss: 0.0139 - accuracy: 0.9957 - val_loss: 0.0522 - val_accuracy: 0.9878\n",
      "Epoch 9/30\n",
      "216/216 [==============================] - 148s 685ms/step - loss: 0.0113 - accuracy: 0.9964 - val_loss: 0.0607 - val_accuracy: 0.9862\n",
      "Epoch 10/30\n",
      "216/216 [==============================] - 151s 697ms/step - loss: 0.0077 - accuracy: 0.9976 - val_loss: 0.0526 - val_accuracy: 0.9885\n",
      "Epoch 11/30\n",
      "216/216 [==============================] - 145s 671ms/step - loss: 0.0054 - accuracy: 0.9983 - val_loss: 0.0633 - val_accuracy: 0.9872\n",
      "Epoch 12/30\n",
      "216/216 [==============================] - 132s 612ms/step - loss: 0.0063 - accuracy: 0.9979 - val_loss: 0.0589 - val_accuracy: 0.9880\n",
      "Epoch 13/30\n",
      "216/216 [==============================] - 130s 602ms/step - loss: 0.0056 - accuracy: 0.9982 - val_loss: 0.0663 - val_accuracy: 0.9878\n",
      "Epoch 14/30\n",
      "216/216 [==============================] - 136s 628ms/step - loss: 0.0052 - accuracy: 0.9983 - val_loss: 0.0729 - val_accuracy: 0.9865\n",
      "Epoch 15/30\n",
      "216/216 [==============================] - 158s 729ms/step - loss: 0.0056 - accuracy: 0.9978 - val_loss: 0.0603 - val_accuracy: 0.9897\n",
      "Epoch 16/30\n",
      "216/216 [==============================] - 154s 712ms/step - loss: 0.0045 - accuracy: 0.9987 - val_loss: 0.0667 - val_accuracy: 0.9887\n",
      "Epoch 17/30\n",
      "216/216 [==============================] - 157s 726ms/step - loss: 0.0042 - accuracy: 0.9988 - val_loss: 0.0656 - val_accuracy: 0.9898\n",
      "Epoch 18/30\n",
      "216/216 [==============================] - 178s 825ms/step - loss: 0.0025 - accuracy: 0.9993 - val_loss: 0.0779 - val_accuracy: 0.9870\n",
      "Epoch 19/30\n",
      "216/216 [==============================] - 118s 548ms/step - loss: 0.0018 - accuracy: 0.9995 - val_loss: 0.0769 - val_accuracy: 0.9885\n",
      "Epoch 20/30\n",
      "216/216 [==============================] - 119s 551ms/step - loss: 0.0023 - accuracy: 0.9993 - val_loss: 0.0804 - val_accuracy: 0.9885\n",
      "Epoch 21/30\n",
      "216/216 [==============================] - 117s 541ms/step - loss: 0.0046 - accuracy: 0.9984 - val_loss: 0.0858 - val_accuracy: 0.9877\n",
      "Epoch 22/30\n",
      "216/216 [==============================] - ETA: 0s - loss: 0.0055 - accuracy: 0.9981Restoring model weights from the end of the best epoch: 17.\n",
      "216/216 [==============================] - 135s 624ms/step - loss: 0.0055 - accuracy: 0.9981 - val_loss: 0.0739 - val_accuracy: 0.9887\n",
      "Epoch 22: early stopping\n",
      "The model has successfully trained\n"
     ]
    }
   ],
   "source": [
    "results = model.fit(train_samples, train_labels, validation_split = 0.1, epochs=30, batch_size=250,callbacks=[earlystopping])\n",
    "print(\"The model has successfully trained\")"
   ]
  },
  {
   "cell_type": "code",
   "execution_count": 14,
   "id": "d7d88bb5",
   "metadata": {},
   "outputs": [
    {
     "name": "stderr",
     "output_type": "stream",
     "text": [
      "C:\\Users\\Esraa Alsaede\\AppData\\Roaming\\Python\\Python310\\site-packages\\keras\\src\\engine\\training.py:3000: UserWarning: You are saving your model as an HDF5 file via `model.save()`. This file format is considered legacy. We recommend using instead the native Keras format, e.g. `model.save('my_model.keras')`.\n",
      "  saving_api.save_model(\n"
     ]
    },
    {
     "name": "stdout",
     "output_type": "stream",
     "text": [
      "Saving the model as mnist.h5\n"
     ]
    }
   ],
   "source": [
    "model.save('mnist.h5')\n",
    "print(\"Saving the model as mnist.h5\")"
   ]
  },
  {
   "cell_type": "code",
   "execution_count": 15,
   "id": "56e5cbd8",
   "metadata": {},
   "outputs": [
    {
     "name": "stdout",
     "output_type": "stream",
     "text": [
      "1875/1875 [==============================] - 53s 28ms/step\n"
     ]
    }
   ],
   "source": [
    "# predict Model\n",
    "predicted_labels_train =  model.predict(train_samples)"
   ]
  },
  {
   "cell_type": "code",
   "execution_count": 16,
   "id": "6a6edc5d",
   "metadata": {},
   "outputs": [],
   "source": [
    "def oneHot_tolabel(y):\n",
    "    y_b=[]\n",
    "    from sklearn.preprocessing import LabelEncoder\n",
    "    labelencoder = LabelEncoder()\n",
    "    y_b[:, 0] = labelencoder.fit_transform(y_b[:, 0])\n",
    "    return y_b"
   ]
  },
  {
   "cell_type": "code",
   "execution_count": 17,
   "id": "1b3ebf46",
   "metadata": {},
   "outputs": [
    {
     "name": "stdout",
     "output_type": "stream",
     "text": [
      "Train accuracy is,  99.86000061035156 %\n"
     ]
    }
   ],
   "source": [
    "def accuracy(x_train, y_train, model):\n",
    "    loss,acc = model.evaluate(train_samples, train_labels,verbose=0) \n",
    "    return acc\n",
    "\n",
    "acc = accuracy(train_samples, train_labels, model)\n",
    "print('Train accuracy is, ', acc*100, '%')"
   ]
  },
  {
   "cell_type": "markdown",
   "id": "37251fed",
   "metadata": {},
   "source": [
    "# Testing the data"
   ]
  },
  {
   "cell_type": "code",
   "execution_count": 18,
   "id": "6020c6cb",
   "metadata": {},
   "outputs": [
    {
     "name": "stdout",
     "output_type": "stream",
     "text": [
      "Test accuracy is,  98.65999817848206 %\n"
     ]
    }
   ],
   "source": [
    "def accuracy(x_test, y_test, model):\n",
    "    \n",
    "    loss,acc = model.evaluate(test_samples, test_labels,verbose=0) \n",
    "    return acc\n",
    "\n",
    "acc = accuracy(test_samples, test_labels, model)\n",
    "print('Test accuracy is, ', acc*100, '%')"
   ]
  },
  {
   "cell_type": "code",
   "execution_count": 19,
   "id": "246fa5a6",
   "metadata": {},
   "outputs": [
    {
     "name": "stdout",
     "output_type": "stream",
     "text": [
      "CNN Error: 1.34%\n"
     ]
    }
   ],
   "source": [
    "# Final evaluation of the model\n",
    "scores = model.evaluate(test_samples, test_labels, verbose=0)\n",
    "print(\"CNN Error: %.2f%%\" % (100-scores[1]*100))"
   ]
  },
  {
   "cell_type": "markdown",
   "id": "23521a05",
   "metadata": {},
   "source": [
    "# GUI"
   ]
  },
  {
   "cell_type": "code",
   "execution_count": 20,
   "id": "aa6ff3ba",
   "metadata": {},
   "outputs": [
    {
     "name": "stdout",
     "output_type": "stream",
     "text": [
      "1/1 [==============================] - 0s 124ms/step\n",
      "1/1 [==============================] - 0s 24ms/step\n",
      "1/1 [==============================] - 0s 26ms/step\n",
      "1/1 [==============================] - 0s 23ms/step\n",
      "1/1 [==============================] - 0s 23ms/step\n",
      "1/1 [==============================] - 0s 33ms/step\n",
      "1/1 [==============================] - 0s 71ms/step\n",
      "1/1 [==============================] - 0s 31ms/step\n",
      "1/1 [==============================] - 0s 25ms/step\n",
      "1/1 [==============================] - 0s 23ms/step\n"
     ]
    }
   ],
   "source": [
    "model = load_model('mnist.h5')\n",
    "\n",
    "def predict_digit(img):\n",
    "    #resize image to 28x28 pixels\n",
    "    img = img.resize((28,28))\n",
    "    #convert rgb to grayscale\n",
    "    img = img.convert('L')\n",
    "    img = np.array(img)\n",
    "    #reshaping to support our model input and normalizing\n",
    "    img = img.reshape(1,28,28,1)\n",
    "    img = img/255.0\n",
    "    #predicting the class\n",
    "    res = model.predict([img])[0]\n",
    "    return np.argmax(res), max(res)\n",
    "\n",
    "class App(tk.Tk):\n",
    "    def __init__(self):\n",
    "        tk.Tk.__init__(self)\n",
    "\n",
    "        self.x = self.y = 0\n",
    "\n",
    "        # Creating elements\n",
    "        self.canvas = tk.Canvas(self, width=300, height=300, bg = \"white\", cursor=\"cross\")\n",
    "        self.label = tk.Label(self, text=\"Thinking..\", font=(\"Helvetica\", 48))\n",
    "        self.classify_btn = tk.Button(self, text = \"Recognise\", command =         self.classify_handwriting)\n",
    "        self.button_clear = tk.Button(self, text = \"Clear\", command = self.clear_all)\n",
    "\n",
    "        # Grid structure\n",
    "        self.canvas.grid(row=0, column=0, pady=2, sticky=W, )\n",
    "        self.label.grid(row=0, column=1,pady=2, padx=2)\n",
    "        self.classify_btn.grid(row=1, column=1, pady=2, padx=2)\n",
    "        self.button_clear.grid(row=1, column=0, pady=2)\n",
    "\n",
    "        #self.canvas.bind(\"<Motion>\", self.start_pos)\n",
    "        self.canvas.bind(\"<B1-Motion>\", self.draw_lines)\n",
    "\n",
    "    def clear_all(self):\n",
    "        self.canvas.delete(\"all\")\n",
    "\n",
    "    def classify_handwriting(self):\n",
    "        HWND = self.canvas.winfo_id() # get the handle of the canvas\n",
    "        rect = win32gui.GetWindowRect(HWND) # get the coordinate of the canvas\n",
    "        im = ImageGrab.grab(rect)\n",
    "\n",
    "        digit, acc = predict_digit(im)\n",
    "        self.label.configure(text= str(digit)+', '+ str(int(acc*100))+'%')\n",
    "\n",
    "    def draw_lines(self, event):\n",
    "        self.x = event.x\n",
    "        self.y = event.y\n",
    "        r=8\n",
    "        self.canvas.create_oval(self.x-r, self.y-r, self.x + r, self.y + r, fill='black')\n",
    "\n",
    "app = App()\n",
    "mainloop()"
   ]
  },
  {
   "cell_type": "code",
   "execution_count": null,
   "id": "569502b5",
   "metadata": {},
   "outputs": [],
   "source": []
  }
 ],
 "metadata": {
  "kernelspec": {
   "display_name": "Python 3 (ipykernel)",
   "language": "python",
   "name": "python3"
  },
  "language_info": {
   "codemirror_mode": {
    "name": "ipython",
    "version": 3
   },
   "file_extension": ".py",
   "mimetype": "text/x-python",
   "name": "python",
   "nbconvert_exporter": "python",
   "pygments_lexer": "ipython3",
   "version": "3.10.9"
  }
 },
 "nbformat": 4,
 "nbformat_minor": 5
}
